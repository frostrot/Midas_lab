{
  "nbformat": 4,
  "nbformat_minor": 0,
  "metadata": {
    "colab": {
      "name": "Linear regression",
      "provenance": [],
      "collapsed_sections": []
    },
    "kernelspec": {
      "name": "python3",
      "display_name": "Python 3"
    },
    "accelerator": "GPU"
  },
  "cells": [
    {
      "cell_type": "code",
      "metadata": {
        "id": "DTD_-XYd5DT6",
        "colab_type": "code",
        "colab": {}
      },
      "source": [
        "import csv\n",
        "from sklearn.linear_model import LinearRegression\n",
        "import numpy as np\n",
        "from sklearn.model_selection import train_test_split"
      ],
      "execution_count": 5,
      "outputs": []
    },
    {
      "cell_type": "code",
      "metadata": {
        "id": "m98ftViw6wvA",
        "colab_type": "code",
        "colab": {}
      },
      "source": [
        "def train_refine(x,field_dic):\n",
        "  i=0\n",
        "  for column in x.T:\n",
        "    for j in range(len(column)):\n",
        "      if column[j] in field_dic[i]:\n",
        "        column[j]=field_dic[i][column[j]]\n",
        "      column[j]=int(column[j])\n",
        "    i+=1\n",
        "  return x\n",
        "\n",
        "def train_read():\n",
        "  X = []\n",
        "  y = []\n",
        "  field_dic = {}\n",
        "  with open(\"train.csv\",'r') as train_file:\n",
        "    csvreader = csv.reader(train_file)\n",
        "    fields = next(csvreader)\n",
        "    for row in csvreader:\n",
        "      X.append(row[1:-1])\n",
        "      y.append(int(row[-1]))\n",
        "    i=0\n",
        "    for item in fields[1:-1]:\n",
        "      field_dic[i]={\"NA\":0}\n",
        "      i+=1\n",
        "  X=np.array(X)\n",
        "  y=np.array(y)\n",
        "  i=0\n",
        "  for column in X.T:\n",
        "    z=1\n",
        "    for item in column:\n",
        "      if not item.isdigit():\n",
        "        if item not in field_dic[i]:\n",
        "          field_dic[i][item]=z\n",
        "          z+=1\n",
        "    i+=1\n",
        "  X=train_refine(X,field_dic)\n",
        "  X=np.array(X,dtype=float)\n",
        "  y=np.array(y,dtype=float)\n",
        "  return X,y"
      ],
      "execution_count": 6,
      "outputs": []
    },
    {
      "cell_type": "code",
      "metadata": {
        "id": "V8u51rtqDIvg",
        "colab_type": "code",
        "colab": {}
      },
      "source": [
        "def test_read():\n",
        "  test_X = []\n",
        "  field_dic={}\n",
        "  with open(\"test.csv\",'r') as test_file:\n",
        "    csvreader = csv.reader(test_file)\n",
        "    fields = next(csvreader)\n",
        "    for row in csvreader:\n",
        "      test_X.append(row[1:])\n",
        "    i=0\n",
        "    for item in fields[1:]:\n",
        "      field_dic[i]={\"NA\":0}\n",
        "      i+=1\n",
        "  test_X=np.array(test_X)\n",
        "  i=0\n",
        "  for column in test_X.T:\n",
        "    z=1\n",
        "    for item in column:\n",
        "      if not item.isdigit():\n",
        "        if item not in field_dic[i]:\n",
        "          field_dic[i][item]=z\n",
        "          z+=1\n",
        "    i+=1\n",
        "  test_X = train_refine(test_X,field_dic)\n",
        "  test_X = np.array(test_X,dtype=float)\n",
        "  return test_X"
      ],
      "execution_count": 7,
      "outputs": []
    },
    {
      "cell_type": "code",
      "metadata": {
        "id": "p8tDa9Yymeyd",
        "colab_type": "code",
        "colab": {
          "base_uri": "https://localhost:8080/",
          "height": 493
        },
        "outputId": "0d8c00cf-ef1f-4c44-f432-9c2b1996faf9"
      },
      "source": [
        "def linear_regression():\n",
        "  train_X,y=train_read()\n",
        "  train_x,test_x,y_train,y_test = train_test_split(train_X,y,test_size=0.30)\n",
        "  reg = LinearRegression().fit(train_x, y_train)\n",
        "  print(\"R2 score\")\n",
        "  print(reg.score(test_x,y_test))\n",
        "  print(\"Co-efficient\")\n",
        "  print(reg.coef_)\n",
        "  print(\"Bias\")\n",
        "  print(reg.intercept_)\n",
        "\n",
        "  print(\"Predicted values-\")\n",
        "  print(reg.predict(test_read()))\n",
        "linear_regression()"
      ],
      "execution_count": 9,
      "outputs": [
        {
          "output_type": "stream",
          "text": [
            "R2 score\n",
            "0.8329309940576035\n",
            "Co-efficient\n",
            "[-3.59548812e+01 -4.07234192e+02 -8.84036018e+00  2.94157559e-01\n",
            " -4.31920656e+04 -3.86889881e+03  4.66676292e+02  3.81139278e+03\n",
            "  1.11121523e-07  1.76290830e+03  8.43017360e+03 -3.22842060e+02\n",
            " -2.01645649e+03 -1.44601063e+04 -2.84322526e+03  1.40606569e+02\n",
            "  1.34423750e+04  6.10309018e+03  4.19092700e+02  1.13948382e+02\n",
            "  5.94907550e+03 -9.99739941e+03  1.16067356e+02 -3.10641836e+01\n",
            "  5.24411462e+03  3.07795011e+01  5.79339388e+02  2.58544115e+03\n",
            " -1.33778785e+03  7.38216458e+03 -3.26603199e+03  1.55706307e+03\n",
            " -1.88129546e+03  5.62924692e+00 -2.63742783e+03  9.12717723e+00\n",
            " -1.95629139e+00  1.28001287e+01  2.53580323e+03 -2.21738189e+03\n",
            "  3.59222964e+03  2.52763398e+03  2.60562179e+01  2.18349519e+01\n",
            " -3.11683577e+01  1.67228160e+01  8.18432668e+03 -3.82720996e+02\n",
            "  8.72840107e+03 -6.92805854e+02 -7.63284950e+03 -2.09736932e+04\n",
            "  6.61005726e+03  5.22656296e+03 -2.37484193e+03 -8.09703488e+02\n",
            "  3.98867702e+03  1.95541541e+02 -1.34783166e+01  2.48625770e+03\n",
            "  1.05621675e+04  1.64961162e+01  5.36366655e+03 -3.02308468e+03\n",
            " -3.33916722e+03  2.00652809e+01  1.59666736e+01  2.57867908e+01\n",
            "  3.95496077e+01  6.60592150e+01  9.23918841e+02 -2.34053482e+05\n",
            " -1.35742480e+03 -1.64795988e+03  7.06447170e-01 -7.98455739e+01\n",
            " -3.33703032e+02  1.73271293e+03  1.39021593e+03]\n",
            "Bias\n",
            "-394260.8999158739\n",
            "Predicted values-\n",
            "[113959.34020705 164607.55410692 163043.04996497 ... 147899.99895896\n",
            " 104263.37076491 239164.9854602 ]\n"
          ],
          "name": "stdout"
        }
      ]
    }
  ]
}